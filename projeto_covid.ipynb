{
 "cells": [
  {
   "cell_type": "markdown",
   "metadata": {},
   "source": [
    "# COVID-19 Project\n",
    "## Digital Innovation One"
   ]
  },
  {
   "cell_type": "code",
   "execution_count": null,
   "metadata": {},
   "outputs": [],
   "source": [
    "# Import libraries\n",
    "import pandas as pd\n",
    "import numpy as np\n",
    "\n",
    "from datetime import datetime\n",
    "import plotly.express as px\n",
    "import plotly.graph_objects as go\n",
    "\n",
    "import re"
   ]
  },
  {
   "cell_type": "code",
   "execution_count": null,
   "metadata": {},
   "outputs": [],
   "source": [
    "\n",
    "# let's import project data\n",
    "url = 'https://github.com/neylsoncrepalde/projeto_eda_covid/blob/master/covid_19_data.csv?raw=true'\n",
    "\n",
    "df = pd.read_csv(url, parse_dates=['ObservationDate', 'Last Update'])"
   ]
  },
  {
   "cell_type": "code",
   "execution_count": null,
   "metadata": {},
   "outputs": [],
   "source": [
    "# Check datetypes\n",
    "df.dtypes"
   ]
  },
  {
   "cell_type": "code",
   "execution_count": null,
   "metadata": {},
   "outputs": [],
   "source": [
    "# Rename colunms, whose names should be all lowercase and without special characters\n",
    "def rename_columns(col_name):\n",
    "  return re.sub(r'[/| ]', '', col_name).lower()\n",
    "\n",
    "df.columns = [rename_columns(col) for col in df.columns]"
   ]
  },
  {
   "cell_type": "markdown",
   "metadata": {},
   "source": [
    "## Focus on Brazil"
   ]
  },
  {
   "cell_type": "code",
   "execution_count": null,
   "metadata": {},
   "outputs": [],
   "source": [
    "# Checking only Brazilian cases\n",
    "brazil = df.loc[\n",
    "  (df.countryregion == 'Brazil') & \n",
    "  (df.confirmed > 0)\n",
    "]"
   ]
  },
  {
   "cell_type": "code",
   "execution_count": null,
   "metadata": {},
   "outputs": [],
   "source": [
    "# Confirmed cases evolution\n",
    "px.line(brazil, 'observationdate', 'confirmed', title='Confirmed cases in Brazil')"
   ]
  },
  {
   "cell_type": "markdown",
   "metadata": {},
   "source": [
    "## New cases by day"
   ]
  },
  {
   "cell_type": "code",
   "execution_count": null,
   "metadata": {},
   "outputs": [],
   "source": [
    "# create new column with new cases confirmed per day\n",
    "brazil['newcases'] = list(map(\n",
    "  lambda x: 0 if (x==0) else brazil['confirmed'].iloc[x] - brazil['confirmed'].iloc[x-1],\n",
    "  np.arange(brazil.shape[0])\n",
    "))\n",
    "\n",
    "# plot a graph with the new cases per day\n",
    "px.line(brazil, x='observationdate', y='newcases', title='New cases per day')"
   ]
  },
  {
   "cell_type": "markdown",
   "metadata": {},
   "source": [
    "## Deaths"
   ]
  },
  {
   "cell_type": "code",
   "execution_count": null,
   "metadata": {},
   "outputs": [],
   "source": [
    "fig = go.Figure()\n",
    "fig.add_trace(\n",
    "  go.Scatter(\n",
    "    x=brazil.observationdate,\n",
    "    y=brazil.deaths,\n",
    "    name='Deaths',\n",
    "    mode='lines+markers',\n",
    "    line={'color': 'red'}\n",
    "  )\n",
    ")\n",
    "\n",
    "# Layout\n",
    "fig.update_layout(title='Deaths by COVID-19 in Brazil')"
   ]
  },
  {
   "cell_type": "markdown",
   "metadata": {},
   "source": [
    "## Increase rate"
   ]
  },
  {
   "cell_type": "code",
   "execution_count": null,
   "metadata": {},
   "outputs": [],
   "source": [
    "# define the increase rate function\n",
    "def increase_rate(data, variable, start_date=None, end_date=None):\n",
    "  if start_date == None:\n",
    "    start_date = data.observationdate.loc[data[variable] > 0].min()\n",
    "  else:\n",
    "    start_date = pd.to_datetime(start_date)\n",
    "\n",
    "  if end_date == None:\n",
    "    end_date = data.observationdate.iloc[-1]\n",
    "  else:\n",
    "    end_date = pd.to_datetime(end_date)\n",
    "\n",
    "  past_value = data.loc[data.observationdate == start_date, variable].values[0]\n",
    "  present_value = data.loc[data.observationdate == end_date, variable].values[0]\n",
    "\n",
    "  n = (end_date - start_date).days\n",
    "  rate = (present_value/past_value)**(1/n) - 1\n",
    "\n",
    "  return rate*100\n",
    "\n",
    "# calculate increase rate for confirmed cases in Brazil\n",
    "increase_rate(brazil, 'confirmed')"
   ]
  },
  {
   "cell_type": "code",
   "execution_count": null,
   "metadata": {},
   "outputs": [],
   "source": [
    "# define the daily increase rate function\n",
    "def daily_increase_rate(data, variable, start_date=None):\n",
    "  if start_date == None:\n",
    "    start_date = data.observationdate.loc[data[variable] > 0].min()\n",
    "  else: start_date = pd.to_datetime(start_date)\n",
    "\n",
    "  end_date = data.observationdate.max()\n",
    "\n",
    "  n = (end_date - start_date).days\n",
    "\n",
    "  rates = list(map(\n",
    "    lambda x: (data[variable].iloc[x] - data[variable].iloc[x-1]) / data[variable].iloc[x-1],\n",
    "    range(1, n+1)\n",
    "  ))\n",
    "  return np.array(rates)*100\n",
    "\n",
    "# plot daily rates for confirmed cases in Brazil\n",
    "daily_rates = daily_increase_rate(brazil, 'confirmed')\n",
    "first_day = brazil.observationdate.loc[brazil.confirmed > 0].min()\n",
    "px.line(\n",
    "  x = pd.date_range(first_day, brazil.observationdate.max())[1:],\n",
    "  y = daily_rates,\n",
    "  title = 'Daily increase rates of confirmed cases in Brazil' \n",
    ")"
   ]
  },
  {
   "cell_type": "markdown",
   "metadata": {},
   "source": [
    "## Predições"
   ]
  },
  {
   "cell_type": "code",
   "execution_count": null,
   "metadata": {},
   "outputs": [],
   "source": [
    "from statsmodels.tsa.seasonal import seasonal_decompose\n",
    "import matplotlib.pyplot as plt"
   ]
  },
  {
   "cell_type": "code",
   "execution_count": null,
   "metadata": {},
   "outputs": [],
   "source": [
    "\n",
    "confirmed = brazil.confirmed\n",
    "confirmed.index = brazil.observationdate"
   ]
  },
  {
   "cell_type": "code",
   "execution_count": null,
   "metadata": {},
   "outputs": [],
   "source": [
    "res = seasonal_decompose(confirmed)"
   ]
  },
  {
   "cell_type": "code",
   "execution_count": null,
   "metadata": {},
   "outputs": [],
   "source": [
    "fig, (ax1, ax2, ax3, ax4) = plt.subplots(4, 1, figsize=(10,8))\n",
    "\n",
    "ax1.plot(res.observed)\n",
    "ax2.plot(res.trend)\n",
    "ax3.plot(res.seasonal)\n",
    "ax4.plot(confirmed.index, res.resid)\n",
    "ax4.axhline(0, linestyle='dashed', c='black')\n",
    "plt.show()"
   ]
  },
  {
   "cell_type": "markdown",
   "metadata": {},
   "source": [
    "## ARIMA Model"
   ]
  },
  {
   "cell_type": "code",
   "execution_count": null,
   "metadata": {},
   "outputs": [],
   "source": [
    "%pip install pmdarima"
   ]
  },
  {
   "cell_type": "code",
   "execution_count": null,
   "metadata": {},
   "outputs": [],
   "source": [
    "from pmdarima.arima import auto_arima\n",
    "\n",
    "model = auto_arima(confirmed) "
   ]
  },
  {
   "cell_type": "code",
   "execution_count": null,
   "metadata": {},
   "outputs": [],
   "source": [
    "fig = go.Figure(go.Scatter(\n",
    "  x=confirmed.index,\n",
    "  y=confirmed,\n",
    "  name='Observed'\n",
    "))\n",
    "\n",
    "fig.add_trace(go.Scatter(\n",
    "  x=confirmed.index,\n",
    "  y=model.predict_in_sample(),\n",
    "  name='Predicted'\n",
    "))\n",
    "\n",
    "fig.add_trace(go.Scatter(\n",
    "  x=pd.date_range('2020-05-20', '2020-06-20'),\n",
    "  y=model.predict(31),\n",
    "  name='Forecast'\n",
    "))\n",
    "\n",
    "fig.update_layout(title='Prediction of confirmed cases in Brazil for the next 30 days')\n",
    "fig.show()"
   ]
  }
 ],
 "metadata": {
  "kernelspec": {
   "display_name": "Python 3 (ipykernel)",
   "language": "python",
   "name": "python3"
  },
  "language_info": {
   "codemirror_mode": {
    "name": "ipython",
    "version": 3
   },
   "file_extension": ".py",
   "mimetype": "text/x-python",
   "name": "python",
   "nbconvert_exporter": "python",
   "pygments_lexer": "ipython3",
   "version": "3.8.10"
  },
  "vscode": {
   "interpreter": {
    "hash": "31f2aee4e71d21fbe5cf8b01ff0e069b9275f58929596ceb00d14d90e3e16cd6"
   }
  }
 },
 "nbformat": 4,
 "nbformat_minor": 2
}
